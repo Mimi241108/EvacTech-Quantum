{
 "cells": [
  {
   "cell_type": "markdown",
   "id": "da048586",
   "metadata": {},
   "source": [
    "# EvacTech Quântica - Simulação de Roteamento Emergencial com Qiskit"
   ]
  },
  {
   "cell_type": "markdown",
   "id": "69cd2c82",
   "metadata": {},
   "source": [
    "Este notebook simula decisões de evacuação com base em sensores representados por qubits em superposição e emaranhamento."
   ]
  },
  {
   "cell_type": "code",
   "execution_count": null,
   "id": "03b933ff",
   "metadata": {},
   "outputs": [],
   "source": [
    "!pip install qiskit"
   ]
  },
  {
   "cell_type": "code",
   "execution_count": null,
   "id": "b68fa752",
   "metadata": {},
   "outputs": [],
   "source": [
    "from qiskit import QuantumCircuit, Aer, execute\n",
    "from qiskit.visualization import plot_histogram\n",
    "from matplotlib import pyplot as plt\n",
    "\n",
    "# Criação do circuito com 2 qubits e 2 bits clássicos\n",
    "circuito = QuantumCircuit(2, 2)\n",
    "\n",
    "# Superposição para simular incerteza dos sensores\n",
    "circuito.h(0)\n",
    "circuito.h(1)\n",
    "\n",
    "# Emaranhamento entre as rotas\n",
    "circuito.cx(0, 1)\n",
    "\n",
    "# Medição dos sensores\n",
    "circuito.measure([0, 1], [0, 1])\n",
    "\n",
    "# Desenho do circuito\n",
    "circuito.draw('mpl')"
   ]
  },
  {
   "cell_type": "code",
   "execution_count": null,
   "id": "f95ebbd2",
   "metadata": {},
   "outputs": [],
   "source": [
    "# Execução no simulador\n",
    "simulador = Aer.get_backend('qasm_simulator')\n",
    "resultado = execute(circuito, backend=simulador, shots=1024).result()\n",
    "contagens = resultado.get_counts()\n",
    "\n",
    "# Visualização dos resultados\n",
    "plot_histogram(contagens)\n",
    "plt.title(\"Simulação de Roteamento Quântico - EvacTech\")\n",
    "plt.show()"
   ]
  },
  {
   "cell_type": "markdown",
   "id": "34f24c52",
   "metadata": {},
   "source": [
    "**Interpretação**: Os estados com maior frequência indicam rotas mais prováveis de estarem livres ou bloqueadas, com influência mútua devido ao emaranhamento."
   ]
  }
 ],
 "metadata": {},
 "nbformat": 4,
 "nbformat_minor": 5
}